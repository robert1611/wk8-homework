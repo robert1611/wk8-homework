{
 "cells": [
  {
   "cell_type": "markdown",
   "metadata": {},
   "source": [
    "# Exercises"
   ]
  },
  {
   "cell_type": "code",
   "execution_count": null,
   "metadata": {},
   "outputs": [],
   "source": [
    "# Question 1 -\n",
    "#Calculate the BMI (body mass index) on the two lists below using NDArrays...¶\n"
   ]
  },
  {
   "cell_type": "code",
   "execution_count": 3,
   "metadata": {},
   "outputs": [
    {
     "data": {
      "text/plain": [
       "array([16.86620458, 17.87755102, 18.82562984, 19.71450617, 20.54794521,\n",
       "       21.32943755, 22.06222222])"
      ]
     },
     "execution_count": 3,
     "metadata": {},
     "output_type": "execute_result"
    }
   ],
   "source": [
    "import numpy as np\n",
    "# formula = weight / (height**2) * 730\n",
    "height = np.array([69, 70, 71, 72, 73, 74, 75])\n",
    "weight = np.array([110, 120, 130, 140, 150, 160, 170])\n",
    "\n",
    "# OUTPUT: [16.86620458 17.87755102 18.82562984 19.71450617 20.54794521 21.32943755\n",
    "# 22.06222222]\n",
    "\n",
    "bmi = weight / (height **2) * 730\n",
    "bmi\n",
    "\n",
    "\n",
    "\n",
    "\n"
   ]
  },
  {
   "cell_type": "code",
   "execution_count": 7,
   "metadata": {},
   "outputs": [
    {
     "name": "stdout",
     "output_type": "stream",
     "text": [
      "Here is a 4x4 matrix with numbers between 0 and 31: \n",
      " [[ 6.69216307 21.4260084  15.79780451  2.35879704]\n",
      " [14.69025473 27.90829346 16.12440167 24.51453161]\n",
      " [12.93734628  6.7248726   8.901839    7.63879151]\n",
      " [ 1.53706006  0.62566431  0.32880488  4.7407415 ]]\n"
     ]
    }
   ],
   "source": [
    "print('Here is a 4x4 matrix with numbers between 0 and 31: \\n %s' % np.random.uniform (0,31, (4,4)))"
   ]
  },
  {
   "cell_type": "code",
   "execution_count": 16,
   "metadata": {},
   "outputs": [
    {
     "name": "stdout",
     "output_type": "stream",
     "text": [
      "[[ 8.93767736  6.42512359 26.93594242 10.0361026 ]\n",
      " [24.17353002 19.98083586 29.30004652 25.46513274]\n",
      " [29.35086967 19.09774054  5.39529653 22.87714227]\n",
      " [14.05633347 10.4880729  23.45309318 21.89478706]]\n"
     ]
    }
   ],
   "source": [
    "def makeMatrix(low, high, shape):\n",
    "    \n",
    "    return np.random.uniform (0,31,(4,4))\n",
    "\n",
    "print(makeMatrix(0,31,(4,4)))\n"
   ]
  },
  {
   "cell_type": "markdown",
   "metadata": {},
   "source": [
    "### #1 - Calculate the BMI (body mass index) on the two lists below using NDArrays..."
   ]
  },
  {
   "cell_type": "markdown",
   "metadata": {},
   "source": [
    "### #2 - Create a function that will take in two parameters and will create a random matrix based off of those parameters. Extra: Have additional parameters taken in that allow the user to choose the shape and data type of the matrix."
   ]
  },
  {
   "cell_type": "code",
   "execution_count": null,
   "metadata": {},
   "outputs": [],
   "source": [
    "\"\"\"\n",
    "Example Result\n",
    "array([[14.21633515,  7.98846653,  9.64140715],\n",
    "       [ 6.30982234,  9.96414331,  8.43153688],\n",
    "       [14.73102068, 11.76072894, 14.23356121]])\n",
    "\"\"\"\n",
    "def makeMatrix(low,high,shape,data_type = float): -- Example\n",
    "#     pass"
   ]
  },
  {
   "cell_type": "markdown",
   "metadata": {},
   "source": [
    "### #3 - Extra: Open and load the data in the two text files that have the Boston Red Sox hitting data for the past seasons. Compare the difference in the two years by putting the data into an NDArray and running a differencial operation on it. The column to look for will be SLG.\n",
    "\n",
    "Your output should display which year (either 2017 or 2018) was a better year based on SLG"
   ]
  },
  {
   "cell_type": "code",
   "execution_count": 47,
   "metadata": {},
   "outputs": [
    {
     "name": "stdout",
     "output_type": "stream",
     "text": [
      "Of the 20 evaluated players, 13 had a higher slugging percentage in 2018\n"
     ]
    }
   ],
   "source": [
    "import csv\n",
    "import numpy as np\n",
    "\n",
    "#Test to make sure you have the correct data\n",
    "\n",
    "FIELDS = ['Rk', 'Pos', 'Name', 'Age', 'G', 'PA', 'AB', 'R', 'H', '2B', '3B', 'HR', 'RBI', 'SB', 'CS', \n",
    "          'BB', 'SO', 'BA', 'OBP', 'SLG', 'OPS', 'OPS+', 'TB', 'GDP', 'HBP', 'SH', 'SF', 'IBB']\n",
    "\n",
    "DATATYPES = [('rk', 'i'), ('pos', '|S25'), ('name', '|S25'), ('age', 'i'), ('g', 'i'), ('pa', 'i'), ('ab', 'i'),\n",
    "                ('r', 'i'), ('h', 'i'), ('2b', 'i'), ('3b', 'i'), ('hr', 'i'), ('rbi', 'i'), ('sb', 'i'), ('cs', 'i'),\n",
    "                ('bb', 'i'), ('so', 'i'), ('ba', 'f'), ('obp', 'f'), ('slg', 'f'), ('ops', 'f'), ('opsp', 'i'),\n",
    "                ('tb', 'i'), ('gdp', 'i'), ('hbp', 'i'), ('sh', 'i'), ('sf', 'i'), ('ibb', 'i')]\n",
    "\n",
    "\n",
    "\n",
    "# instead of loading csv normally, let's load it into a numpy array to calculate results on\n",
    "\n",
    "def load_data(filename, d = ','):\n",
    "    data = np.genfromtxt(filename, delimiter = d, skip_header = 1,\n",
    "                        usecols = np.arange(0,24), invalid_raise = False,\n",
    "                        names = FIELDS, dtype = DATATYPES)\n",
    "    return data\n",
    "\n",
    "bs2017 = load_data('../files/redsox_2017_hitting.txt')\n",
    "\n",
    "slg_2017 = np.array(sorted(bs2017['SLG'][0:20]))\n",
    "\n",
    "#print(slg_2017)\n",
    "\n",
    "bs2018 = load_data('../files/redsox_2018_hitting.txt')\n",
    "\n",
    "slg_2018 = np.array(sorted(bs2018['SLG'][0:20]))\n",
    "\n",
    "#print(slg_2018)\n",
    "\n",
    "result_diff = slg_2018 - slg_2017\n",
    "result_diff\n",
    "\n",
    "print (\"Of the 20 evaluated players, \" + str(len([x for x in result_diff if x > 0])) + \" had a higher slugging percentage in 2018\")\n",
    "                   \n",
    "\n"
   ]
  },
  {
   "cell_type": "code",
   "execution_count": 109,
   "metadata": {},
   "outputs": [
    {
     "name": "stdout",
     "output_type": "stream",
     "text": [
      "0.4076500796883301\n",
      "0.4539614561027837\n"
     ]
    }
   ],
   "source": [
    "\"\"\"\n",
    "The best way to evaluate the slugging percentage in a year over year basis\n",
    "would be to calculate the entire team's slugging percentage in 2018 vs\n",
    "2017. Mike Lowell and Mookie Betta were filthy in 2018.  Slugging \n",
    "percentage can be determined from the dataset you have by \n",
    "using the following principles:\n",
    "\n",
    "AB is the denominator\n",
    "The numerator is 2 * 2B + 3 * 3B + 4 * HR - (H - 2B - 3B - HR)\n",
    "\n",
    "The Red Sx=ox slugged .454 in 2018 vs .408 in 2017\n",
    "\n",
    "\"\"\"\n",
    "import csv\n",
    "import numpy as np\n",
    "\n",
    "#Test to make sure you have the correct data\n",
    "\n",
    "FIELDS = ['Rk', 'Pos', 'Name', 'Age', 'G', 'PA', 'AB', 'R', 'H', '2B', '3B', 'HR', 'RBI', 'SB', 'CS', \n",
    "          'BB', 'SO', 'BA', 'OBP', 'SLG', 'OPS', 'OPS+', 'TB', 'GDP', 'HBP', 'SH', 'SF', 'IBB']\n",
    "\n",
    "DATATYPES = [('rk', 'i'), ('pos', '|S25'), ('name', '|S25'), ('age', 'i'), ('g', 'i'), ('pa', 'i'), ('ab', 'i'),\n",
    "                ('r', 'i'), ('h', 'i'), ('2b', 'i'), ('3b', 'i'), ('hr', 'i'), ('rbi', 'i'), ('sb', 'i'), ('cs', 'i'),\n",
    "                ('bb', 'i'), ('so', 'i'), ('ba', 'f'), ('obp', 'f'), ('slg', 'f'), ('ops', 'f'), ('opsp', 'i'),\n",
    "                ('tb', 'i'), ('gdp', 'i'), ('hbp', 'i'), ('sh', 'i'), ('sf', 'i'), ('ibb', 'i')]\n",
    "\n",
    "bs2017 = load_data('../files/redsox_2017_hitting.txt')\n",
    "bs2018 = load_data('../files/redsox_2018_hitting.txt')\n",
    "\n",
    "hits_2017 = (bs2017['H'])\n",
    "AB_2017 = bs2017['AB']\n",
    "DB_2017 = bs2017['2B']\n",
    "Triple_2017 = bs2017['3B'] \n",
    "HR_2017 = bs2017['HR']\n",
    "\n",
    "\n",
    "total_bases_2017 = (sum(hits_2017) + sum(DB_2017) + sum(Triple_2017)*2 + sum(HR_2017)*3)\n",
    "total_ab_2017 = (sum(AB_2017))\n",
    "SLG_2017 = total_bases_2017 / total_ab_2017\n",
    "print(SLG_2017)\n",
    "\n",
    "hits_2018 = (bs2018['H'])\n",
    "AB_2018 = bs2018['AB']\n",
    "DB_2018 = bs2018['2B']\n",
    "Triple_2018 = bs2018['3B'] \n",
    "HR_2018 = bs2018['HR']\n",
    "\n",
    "\n",
    "total_bases_2018 = (sum(hits_2018) + sum(DB_2018) + sum(Triple_2018)*2 + sum(HR_2018)*3)\n",
    "total_ab_2018 = (sum(AB_2018))\n",
    "SLG_2018 = total_bases_2018 / total_ab_2018\n",
    "print(SLG_2018)\n",
    "\n"
   ]
  },
  {
   "cell_type": "code",
   "execution_count": 53,
   "metadata": {},
   "outputs": [],
   "source": [
    "\"\"\"\n",
    "Example Result - Not the actual result\n",
    "Boston 18 had more SLG in 2018\n",
    "[0.404 0.443 0.392 0.403 0.482 0.424 0.402 0.459 0.429 0.354 0.387 0.333\n",
    " 0.539 0.243 0.262 0.354 0.342 0.339 0.328 0.306 0.222 0.2   1.   ]\n",
    "\"\"\"\n",
    "\n",
    "FIELDS = ['Rk', 'Pos', 'Name', 'Age', 'G', 'PA', 'AB', 'R', 'H', '2B', '3B', 'HR', 'RBI', 'SB', 'CS', \n",
    "          'BB', 'SO', 'BA', 'OBP', 'SLG', 'OPS', 'OPS+', 'TB', 'GDP', 'HBP', 'SH', 'SF', 'IBB']\n",
    "\n",
    "DATATYPES = [('rk', 'i'), ('pos', '|S25'), ('name', '|S25'), ('age', 'i'), ('g', 'i'), ('pa', 'i'), ('ab', 'i'),\n",
    "                ('r', 'i'), ('h', 'i'), ('2b', 'i'), ('3b', 'i'), ('hr', 'i'), ('rbi', 'i'), ('sb', 'i'), ('cs', 'i'),\n",
    "                ('bb', 'i'), ('so', 'i'), ('ba', 'f'), ('obp', 'f'), ('slg', 'f'), ('ops', 'f'), ('opsp', 'i'),\n",
    "                ('tb', 'i'), ('gdp', 'i'), ('hbp', 'i'), ('sh', 'i'), ('sf', 'i'), ('ibb', 'i')]\n",
    "\n",
    "#Use this function to actually open the data inside of a NDArray\n",
    "\n"
   ]
  },
  {
   "cell_type": "code",
   "execution_count": null,
   "metadata": {},
   "outputs": [],
   "source": []
  }
 ],
 "metadata": {
  "kernelspec": {
   "display_name": "Python 3",
   "language": "python",
   "name": "python3"
  },
  "language_info": {
   "codemirror_mode": {
    "name": "ipython",
    "version": 3
   },
   "file_extension": ".py",
   "mimetype": "text/x-python",
   "name": "python",
   "nbconvert_exporter": "python",
   "pygments_lexer": "ipython3",
   "version": "3.8.5"
  }
 },
 "nbformat": 4,
 "nbformat_minor": 2
}
